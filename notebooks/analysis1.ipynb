{
 "cells": [
  {
   "cell_type": "markdown",
   "source": [
    "# Your Name Here"
   ],
   "metadata": {}
  },
  {
   "cell_type": "markdown",
   "source": [
    "## Research question/interests\r\n",
    "\r\n",
    "The primary interest is in the effect of altitude on the frequency of car crashes."
   ],
   "metadata": {}
  },
  {
   "cell_type": "code",
   "execution_count": 2,
   "source": [
    "# Import useful libraries\r\n",
    "import pandas as pd"
   ],
   "outputs": [],
   "metadata": {}
  },
  {
   "cell_type": "code",
   "execution_count": 4,
   "source": [
    "# Import raw dataset\r\n",
    "DATASET_FILE_RELATIVE_PATH = \"../data/raw/dataset/US_Accidents_Dec20_updated.csv\"\r\n",
    "\r\n",
    "df = pd.read_csv(DATASET_FILE_RELATIVE_PATH)\r\n",
    "\r\n",
    "print(df.head(16))"
   ],
   "outputs": [
    {
     "output_type": "stream",
     "name": "stdout",
     "text": [
      "           ID  Severity           Start_Time             End_Time  Start_Lat  \\\n",
      "0   A-2716600         3  2016-02-08 00:37:08  2016-02-08 06:37:08  40.108910   \n",
      "1   A-2716601         2  2016-02-08 05:56:20  2016-02-08 11:56:20  39.865420   \n",
      "2   A-2716602         2  2016-02-08 06:15:39  2016-02-08 12:15:39  39.102660   \n",
      "3   A-2716603         2  2016-02-08 06:15:39  2016-02-08 12:15:39  39.101480   \n",
      "4   A-2716604         2  2016-02-08 06:51:45  2016-02-08 12:51:45  41.062130   \n",
      "5   A-2716605         3  2016-02-08 07:53:43  2016-02-08 13:53:43  39.172393   \n",
      "6   A-2716606         2  2016-02-08 08:16:57  2016-02-08 14:16:57  39.063240   \n",
      "7   A-2716607         2  2016-02-08 08:16:57  2016-02-08 14:16:57  39.067080   \n",
      "8   A-2716608         2  2016-02-08 08:15:41  2016-02-08 14:15:41  39.775650   \n",
      "9   A-2716609         2  2016-02-08 11:51:46  2016-02-08 17:51:46  41.375310   \n",
      "10  A-2716610         2  2016-02-08 14:19:57  2016-02-08 20:19:57  40.702247   \n",
      "11  A-2716611         2  2016-02-08 15:16:43  2016-02-08 21:16:43  40.109310   \n",
      "12  A-2716612         2  2016-02-08 15:43:50  2016-02-08 21:43:50  39.192880   \n",
      "13  A-2716613         2  2016-02-08 16:50:57  2016-02-08 22:50:57  39.138770   \n",
      "14  A-2716614         2  2016-02-08 17:27:39  2016-02-08 23:27:39  41.473900   \n",
      "15  A-2716615         2  2016-02-08 17:30:18  2016-02-08 23:30:18  39.582242   \n",
      "\n",
      "    Start_Lng    End_Lat    End_Lng  Distance(mi)  \\\n",
      "0  -83.092860  40.112060 -83.031870         3.230   \n",
      "1  -84.062800  39.865010 -84.048730         0.747   \n",
      "2  -84.524680  39.102090 -84.523960         0.055   \n",
      "3  -84.523410  39.098410 -84.522410         0.219   \n",
      "4  -81.537840  41.062170 -81.535470         0.123   \n",
      "5  -84.492792  39.170476 -84.501798         0.500   \n",
      "6  -84.032430  39.067310 -84.058510         1.427   \n",
      "7  -84.058550  39.063020 -84.032540         1.423   \n",
      "8  -84.186030  39.772750 -84.188050         0.227   \n",
      "9  -81.820170  41.367860 -81.821740         0.521   \n",
      "10 -84.075887  40.699110 -84.084293         0.491   \n",
      "11 -82.968490  40.110780 -82.984000         0.826   \n",
      "12 -84.477230  39.196150 -84.473350         0.307   \n",
      "13 -84.533940  39.139770 -84.534300         0.072   \n",
      "14 -81.704233  41.473880 -81.705590         0.070   \n",
      "15 -83.677814  39.603013 -83.637319         2.590   \n",
      "\n",
      "                                          Description  ...  Roundabout  \\\n",
      "0   Between Sawmill Rd/Exit 20 and OH-315/Olentang...  ...       False   \n",
      "1                  At OH-4/OH-235/Exit 41 - Accident.  ...       False   \n",
      "2                    At I-71/US-50/Exit 1 - Accident.  ...       False   \n",
      "3                    At I-71/US-50/Exit 1 - Accident.  ...       False   \n",
      "4                     At Dart Ave/Exit 21 - Accident.  ...       False   \n",
      "5                  At Mitchell Ave/Exit 6 - Accident.  ...       False   \n",
      "6                        At Dela Palma Rd - Accident.  ...       False   \n",
      "7                        At Dela Palma Rd - Accident.  ...       False   \n",
      "8                         At OH-4/Exit 54 - Accident.  ...       False   \n",
      "9                   At Bagley Rd/Exit 235 - Accident.  ...       False   \n",
      "10                      At OH-65/Exit 122 - Accident.  ...       False   \n",
      "11                        At I-71/Exit 26 - Accident.  ...       False   \n",
      "12              At OH-4/Paddock Rd/Exit 9 - Accident.  ...       False   \n",
      "13              At US-52/Hopple St/Exit 3 - Accident.  ...       False   \n",
      "14                      At US-42/Exit 170 - Accident.  ...       False   \n",
      "15  Between OH-72/Exit 58 and US-35/Exit 65 - Acci...  ...       False   \n",
      "\n",
      "   Station   Stop Traffic_Calming Traffic_Signal Turning_Loop Sunrise_Sunset  \\\n",
      "0    False  False           False          False        False          Night   \n",
      "1    False  False           False          False        False          Night   \n",
      "2    False  False           False          False        False          Night   \n",
      "3    False  False           False          False        False          Night   \n",
      "4    False  False           False          False        False          Night   \n",
      "5    False  False           False          False        False            Day   \n",
      "6    False  False           False           True        False            Day   \n",
      "7    False  False           False          False        False            Day   \n",
      "8    False  False           False          False        False            Day   \n",
      "9    False  False           False          False        False            Day   \n",
      "10   False  False           False          False        False            Day   \n",
      "11   False  False           False          False        False            Day   \n",
      "12   False  False           False          False        False            Day   \n",
      "13   False  False           False           True        False            Day   \n",
      "14   False  False           False          False        False            Day   \n",
      "15   False  False           False          False        False            Day   \n",
      "\n",
      "   Civil_Twilight Nautical_Twilight Astronomical_Twilight  \n",
      "0           Night             Night                 Night  \n",
      "1           Night             Night                 Night  \n",
      "2           Night             Night                   Day  \n",
      "3           Night             Night                   Day  \n",
      "4           Night               Day                   Day  \n",
      "5             Day               Day                   Day  \n",
      "6             Day               Day                   Day  \n",
      "7             Day               Day                   Day  \n",
      "8             Day               Day                   Day  \n",
      "9             Day               Day                   Day  \n",
      "10            Day               Day                   Day  \n",
      "11            Day               Day                   Day  \n",
      "12            Day               Day                   Day  \n",
      "13            Day               Day                   Day  \n",
      "14            Day               Day                   Day  \n",
      "15            Day               Day                   Day  \n",
      "\n",
      "[16 rows x 47 columns]\n"
     ]
    }
   ],
   "metadata": {}
  }
 ],
 "metadata": {
  "orig_nbformat": 4,
  "language_info": {
   "name": "plaintext"
  }
 },
 "nbformat": 4,
 "nbformat_minor": 2
}